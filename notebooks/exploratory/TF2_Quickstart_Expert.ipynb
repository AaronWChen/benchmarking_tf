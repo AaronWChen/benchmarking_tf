{
 "cells": [
  {
   "cell_type": "code",
   "execution_count": 1,
   "metadata": {},
   "outputs": [],
   "source": [
    "import tensorflow as tf\n",
    "import timeit\n",
    "\n",
    "from tensorflow.keras.layers import Dense, Flatten, Conv2D\n",
    "from tensorflow.keras import Model"
   ]
  },
  {
   "cell_type": "code",
   "execution_count": 2,
   "metadata": {},
   "outputs": [],
   "source": [
    "mnist = tf.keras.datasets.mnist\n",
    "\n",
    "(x_train, y_train), (x_test, y_test) = mnist.load_data()\n",
    "x_train, x_test = x_train / 255.0, x_test / 255.0\n",
    "\n",
    "# Add a channels dimension\n",
    "x_train = x_train[..., tf.newaxis]\n",
    "x_test = x_test[..., tf.newaxis]"
   ]
  },
  {
   "cell_type": "code",
   "execution_count": 3,
   "metadata": {},
   "outputs": [],
   "source": [
    "train_ds = tf.data.Dataset.from_tensor_slices(\n",
    "    (x_train, y_train)).shuffle(10000).batch(32)\n",
    "\n",
    "test_ds = tf.data.Dataset.from_tensor_slices((x_test, y_test)).batch(32)"
   ]
  },
  {
   "cell_type": "code",
   "execution_count": 4,
   "metadata": {},
   "outputs": [],
   "source": [
    "class MyModel(Model):\n",
    "  def __init__(self):\n",
    "    super(MyModel, self).__init__()\n",
    "    self.conv1 = Conv2D(32, 3, activation='relu')\n",
    "    self.flatten = Flatten()\n",
    "    self.d1 = Dense(128, activation='relu')\n",
    "    self.d2 = Dense(10)\n",
    "\n",
    "  def call(self, x):\n",
    "    x = self.conv1(x)\n",
    "    x = self.flatten(x)\n",
    "    x = self.d1(x)\n",
    "    return self.d2(x)\n",
    "\n",
    "# Create an instance of the model\n",
    "model = MyModel()"
   ]
  },
  {
   "cell_type": "code",
   "execution_count": 5,
   "metadata": {},
   "outputs": [],
   "source": [
    "loss_object = tf.keras.losses.SparseCategoricalCrossentropy(from_logits=True)\n",
    "\n",
    "optimizer = tf.keras.optimizers.Adam()"
   ]
  },
  {
   "cell_type": "code",
   "execution_count": 6,
   "metadata": {},
   "outputs": [],
   "source": [
    "train_loss = tf.keras.metrics.Mean(name='train_loss')\n",
    "train_accuracy = tf.keras.metrics.SparseCategoricalAccuracy(name='train_accuracy')\n",
    "\n",
    "test_loss = tf.keras.metrics.Mean(name='test_loss')\n",
    "test_accuracy = tf.keras.metrics.SparseCategoricalAccuracy(name='test_accuracy')"
   ]
  },
  {
   "cell_type": "code",
   "execution_count": 7,
   "metadata": {},
   "outputs": [],
   "source": [
    "@tf.function\n",
    "def train_step(images, labels):\n",
    "  tf.keras.backend.set_floatx('float64')\n",
    "  with tf.GradientTape() as tape:\n",
    "    # training=True is only needed if there are layers with different\n",
    "    # behavior during training versus inference (e.g. Dropout).\n",
    "    predictions = model(images, training=True)\n",
    "    loss = loss_object(labels, predictions)\n",
    "  gradients = tape.gradient(loss, model.trainable_variables)\n",
    "  optimizer.apply_gradients(zip(gradients, model.trainable_variables))\n",
    "\n",
    "  train_loss(loss)\n",
    "  train_accuracy(labels, predictions)"
   ]
  },
  {
   "cell_type": "code",
   "execution_count": 8,
   "metadata": {},
   "outputs": [],
   "source": [
    "@tf.function\n",
    "def test_step(images, labels):\n",
    "  tf.keras.backend.set_floatx('float64')\n",
    "  # training=False is only needed if there are layers with different\n",
    "  # behavior during training versus inference (e.g. Dropout).\n",
    "  predictions = model(images, training=False)\n",
    "  t_loss = loss_object(labels, predictions)\n",
    "\n",
    "  test_loss(t_loss)\n",
    "  test_accuracy(labels, predictions)"
   ]
  },
  {
   "cell_type": "code",
   "execution_count": 9,
   "metadata": {},
   "outputs": [],
   "source": [
    "def meas_perf(EPOCHS):\n",
    "    for epoch in range(EPOCHS):\n",
    "        # Reset the metrics at the start of the next epoch\n",
    "        tf.keras.backend.set_floatx('float64')\n",
    "        train_loss.reset_states()\n",
    "        train_accuracy.reset_states()\n",
    "        test_loss.reset_states()\n",
    "        test_accuracy.reset_states()\n",
    "\n",
    "        for images, labels in train_ds:\n",
    "            train_step(images, labels)\n",
    "\n",
    "        for test_images, test_labels in test_ds:\n",
    "            test_step(test_images, test_labels)\n",
    "\n",
    "        template = 'Epoch {}, Loss: {}, Accuracy: {}, Test Loss: {}, Test Accuracy: {}'\n",
    "        print(template.format(epoch + 1,\n",
    "                            train_loss.result(),\n",
    "                            train_accuracy.result() * 100,\n",
    "                            test_loss.result(),\n",
    "                            test_accuracy.result() * 100))"
   ]
  },
  {
   "cell_type": "code",
   "execution_count": 10,
   "metadata": {},
   "outputs": [
    {
     "name": "stdout",
     "output_type": "stream",
     "text": [
      "WARNING:tensorflow:Layer my_model is casting an input tensor from dtype float64 to the layer's dtype of float32, which is new behavior in TensorFlow 2.  The layer has dtype float32 because it's dtype defaults to floatx.\n",
      "\n",
      "If you intended to run this layer in float32, you can safely ignore this warning. If in doubt, this warning is likely only an issue if you are porting a TensorFlow 1.X model to TensorFlow 2.\n",
      "\n",
      "To change all layers to have dtype float64 by default, call `tf.keras.backend.set_floatx('float64')`. To change just this layer, pass dtype='float64' to the layer constructor. If you are the author of this layer, you can disable autocasting by passing autocast=False to the base Layer constructor.\n",
      "\n",
      "Epoch 1, Loss: 0.13407917320728302, Accuracy: 95.9366683959961, Test Loss: 0.06676270812749863, Test Accuracy: 97.91999816894531\n",
      "Epoch 2, Loss: 0.04163378104567528, Accuracy: 98.69999694824219, Test Loss: 0.04995086416602135, Test Accuracy: 98.29999542236328\n",
      "Epoch 3, Loss: 0.022035546600818634, Accuracy: 99.23833465576172, Test Loss: 0.0589321069419384, Test Accuracy: 98.22999572753906\n",
      "Epoch 4, Loss: 0.01195809617638588, Accuracy: 99.59833526611328, Test Loss: 0.05967802554368973, Test Accuracy: 98.27999877929688\n",
      "Epoch 5, Loss: 0.008993517607450485, Accuracy: 99.68333435058594, Test Loss: 0.07269194722175598, Test Accuracy: 98.12999725341797\n",
      "Epoch 1, Loss: 0.00644645793363452, Accuracy: 99.78500366210938, Test Loss: 0.06103747710585594, Test Accuracy: 98.5199966430664\n",
      "Epoch 2, Loss: 0.005804300773888826, Accuracy: 99.80333709716797, Test Loss: 0.0655466765165329, Test Accuracy: 98.58000183105469\n",
      "Epoch 3, Loss: 0.0039922213181853294, Accuracy: 99.88500213623047, Test Loss: 0.06142422929406166, Test Accuracy: 98.47000122070312\n",
      "Epoch 4, Loss: 0.0036487849429249763, Accuracy: 99.88166809082031, Test Loss: 0.07205282151699066, Test Accuracy: 98.54999542236328\n",
      "Epoch 5, Loss: 0.0035073631443083286, Accuracy: 99.875, Test Loss: 0.08392082899808884, Test Accuracy: 98.31999969482422\n",
      "Epoch 1, Loss: 0.0028974278829991817, Accuracy: 99.91333770751953, Test Loss: 0.0860578864812851, Test Accuracy: 98.43000030517578\n",
      "Epoch 2, Loss: 0.002609460148960352, Accuracy: 99.9183349609375, Test Loss: 0.08831895887851715, Test Accuracy: 98.29999542236328\n",
      "Epoch 3, Loss: 0.003188936971127987, Accuracy: 99.88166809082031, Test Loss: 0.07823724299669266, Test Accuracy: 98.4000015258789\n",
      "Epoch 4, Loss: 0.0017093467758968472, Accuracy: 99.94000244140625, Test Loss: 0.08853715658187866, Test Accuracy: 98.43999481201172\n",
      "Epoch 5, Loss: 0.002135590650141239, Accuracy: 99.93499755859375, Test Loss: 0.08776243776082993, Test Accuracy: 98.5\n",
      "Epoch 1, Loss: 0.0017919467063620687, Accuracy: 99.94999694824219, Test Loss: 0.09167435020208359, Test Accuracy: 98.47999572753906\n",
      "Epoch 2, Loss: 0.0017449089791625738, Accuracy: 99.93333435058594, Test Loss: 0.10298546403646469, Test Accuracy: 98.40999603271484\n",
      "Epoch 3, Loss: 0.0009984946809709072, Accuracy: 99.97000122070312, Test Loss: 0.10910482704639435, Test Accuracy: 98.44999694824219\n",
      "Epoch 4, Loss: 0.001778059988282621, Accuracy: 99.9383316040039, Test Loss: 0.11433921009302139, Test Accuracy: 98.33999633789062\n",
      "Epoch 5, Loss: 0.002340498846024275, Accuracy: 99.93167114257812, Test Loss: 0.0892382338643074, Test Accuracy: 98.62999725341797\n",
      "Epoch 1, Loss: 0.0012661073124036193, Accuracy: 99.9566650390625, Test Loss: 0.09536314010620117, Test Accuracy: 98.43000030517578\n",
      "Epoch 2, Loss: 0.0007048211991786957, Accuracy: 99.9800033569336, Test Loss: 0.11394468694925308, Test Accuracy: 98.44999694824219\n",
      "Epoch 3, Loss: 0.0010486873798072338, Accuracy: 99.9766616821289, Test Loss: 0.11329977214336395, Test Accuracy: 98.47999572753906\n",
      "Epoch 4, Loss: 0.0009745326242409647, Accuracy: 99.97000122070312, Test Loss: 0.11712761223316193, Test Accuracy: 98.41999816894531\n",
      "Epoch 5, Loss: 0.0011878375662490726, Accuracy: 99.96666717529297, Test Loss: 0.10964241623878479, Test Accuracy: 98.5999984741211\n",
      "Epoch 1, Loss: 0.0017393332673236728, Accuracy: 99.95166778564453, Test Loss: 0.11044958978891373, Test Accuracy: 98.54000091552734\n",
      "Epoch 2, Loss: 0.0004907528054900467, Accuracy: 99.98666381835938, Test Loss: 0.10433727502822876, Test Accuracy: 98.5999984741211\n",
      "Epoch 3, Loss: 0.0009816770907491446, Accuracy: 99.97000122070312, Test Loss: 0.1257852464914322, Test Accuracy: 98.43000030517578\n",
      "Epoch 4, Loss: 0.0016262390417978168, Accuracy: 99.95500183105469, Test Loss: 0.119239941239357, Test Accuracy: 98.36000061035156\n",
      "Epoch 5, Loss: 0.001203532563522458, Accuracy: 99.97000122070312, Test Loss: 0.10811812430620193, Test Accuracy: 98.44999694824219\n",
      "Epoch 1, Loss: 0.0008061508997343481, Accuracy: 99.9766616821289, Test Loss: 0.12238918989896774, Test Accuracy: 98.48999786376953\n",
      "Epoch 2, Loss: 0.0006422348087653518, Accuracy: 99.97833251953125, Test Loss: 0.11463964730501175, Test Accuracy: 98.54999542236328\n",
      "Epoch 3, Loss: 0.00010953377932310104, Accuracy: 99.99666595458984, Test Loss: 0.154871866106987, Test Accuracy: 98.33999633789062\n",
      "Epoch 4, Loss: 0.0019608139991760254, Accuracy: 99.94666290283203, Test Loss: 0.14329063892364502, Test Accuracy: 98.45999908447266\n",
      "Epoch 5, Loss: 0.0017256962601095438, Accuracy: 99.95500183105469, Test Loss: 0.14259853959083557, Test Accuracy: 98.56999969482422\n",
      "Epoch 1, Loss: 0.0012463851599022746, Accuracy: 99.96833038330078, Test Loss: 0.13309337198734283, Test Accuracy: 98.54999542236328\n",
      "Epoch 2, Loss: 0.0008398334612138569, Accuracy: 99.97333526611328, Test Loss: 0.15396128594875336, Test Accuracy: 98.5199966430664\n",
      "Epoch 3, Loss: 0.0017891080351546407, Accuracy: 99.94499969482422, Test Loss: 0.1316862404346466, Test Accuracy: 98.6199951171875\n",
      "Epoch 4, Loss: 0.000568245304748416, Accuracy: 99.9816665649414, Test Loss: 0.12222616374492645, Test Accuracy: 98.73999786376953\n",
      "Epoch 5, Loss: 0.0009535374119877815, Accuracy: 99.97166442871094, Test Loss: 0.18233740329742432, Test Accuracy: 98.31999969482422\n",
      "12min 53s ± 37 s per loop (mean ± std. dev. of 7 runs, 1 loop each)\n"
     ]
    }
   ],
   "source": [
    "%timeit meas_perf(EPOCHS=5)"
   ]
  },
  {
   "cell_type": "code",
   "execution_count": null,
   "metadata": {},
   "outputs": [],
   "source": [
    "EPOCHS = 5\n",
    "\n",
    "for epoch in range(EPOCHS):\n",
    "  # Reset the metrics at the start of the next epoch\n",
    "  train_loss.reset_states()\n",
    "  train_accuracy.reset_states()\n",
    "  test_loss.reset_states()\n",
    "  test_accuracy.reset_states()\n",
    "\n",
    "  for images, labels in train_ds:\n",
    "    train_step(images, labels)\n",
    "\n",
    "  for test_images, test_labels in test_ds:\n",
    "    test_step(test_images, test_labels)\n",
    "\n",
    "  template = 'Epoch {}, Loss: {}, Accuracy: {}, Test Loss: {}, Test Accuracy: {}'\n",
    "  print(template.format(epoch + 1,\n",
    "                        train_loss.result(),\n",
    "                        train_accuracy.result() * 100,\n",
    "                        test_loss.result(),\n",
    "                        test_accuracy.result() * 100))"
   ]
  },
  {
   "cell_type": "code",
   "execution_count": null,
   "metadata": {},
   "outputs": [],
   "source": []
  }
 ],
 "metadata": {
  "kernelspec": {
   "display_name": "Python 3 - TF2",
   "language": "python",
   "name": "tf2_benchmarking"
  },
  "language_info": {
   "codemirror_mode": {
    "name": "ipython",
    "version": 3
   },
   "file_extension": ".py",
   "mimetype": "text/x-python",
   "name": "python",
   "nbconvert_exporter": "python",
   "pygments_lexer": "ipython3",
   "version": "3.7.3"
  }
 },
 "nbformat": 4,
 "nbformat_minor": 4
}
